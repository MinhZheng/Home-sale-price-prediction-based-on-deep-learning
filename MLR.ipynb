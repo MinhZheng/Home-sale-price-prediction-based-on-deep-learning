{
 "cells": [
  {
   "cell_type": "code",
   "execution_count": null,
   "id": "61070c04",
   "metadata": {},
   "outputs": [],
   "source": [
    "# MLR \n",
    "##call the database that the MLR model will use\n",
    "from sklearn.linear_model import LinearRegression\n",
    "import pandas as pd\n",
    "import matplotlib.pyplot as plt\n",
    "\n",
    "# create the linear class\n",
    "\n",
    "\"\"\"\" first need to differentiate the data into two parts,\n",
    "the x part and the y part. The whole data is split into 4 parts,\n",
    "train x train y, test x, and test y. Input the train x and y to the algorithms \n",
    "\"\"\"\n",
    "class linear:\n",
    "    def __init__(self, x_train, y_train, x_test, y_test):\n",
    "# Allocate according to time attribute. The estimated attribute is price, \n",
    "#  the price attribute is the data of output y\n",
    "        self.x_train = x_train\n",
    "        self.y_train = y_train\n",
    "        self.x_test = x_test\n",
    "        self.y_test = y_test\n",
    "        \n",
    "#use the LinearRegression() command to train the dataset and get the MLR model.\n",
    "    # the run function is used to run the data by using LinearRegression model\n",
    "    def run(self):\n",
    "        lr = LinearRegression()\n",
    "        \n",
    "        return #predict_value\n",
    "    \n",
    "# bring the test x into the obtained MLR model to get the prediction result image\n",
    "    # the plot function is used to print out the result plot\n",
    "    def plot(self, y_train_predict, y_test_predict):\n",
    "        # set the function\n",
    "        train_data = self.x_train\n",
    "        test_data = self.x_test\n",
    "        # print out the original plot and predict value plot\n",
    "        plt.plot(train_dates, y_train_predict)\n",
    "        plt.plot(test_dates, y_test_predict)\n",
    "        plt.title(\"Linear Regression\")\n",
    "        plt.show()"
   ]
  }
 ],
 "metadata": {
  "kernelspec": {
   "display_name": "Python 3 (ipykernel)",
   "language": "python",
   "name": "python3"
  },
  "language_info": {
   "codemirror_mode": {
    "name": "ipython",
    "version": 3
   },
   "file_extension": ".py",
   "mimetype": "text/x-python",
   "name": "python",
   "nbconvert_exporter": "python",
   "pygments_lexer": "ipython3",
   "version": "3.9.12"
  }
 },
 "nbformat": 4,
 "nbformat_minor": 5
}

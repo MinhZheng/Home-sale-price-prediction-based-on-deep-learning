{
 "cells": [
  {
   "cell_type": "code",
   "execution_count": 6,
   "id": "67ee6a0e",
   "metadata": {},
   "outputs": [
    {
     "ename": "SyntaxError",
     "evalue": "invalid syntax (3453485651.py, line 1)",
     "output_type": "error",
     "traceback": [
      "\u001b[0;36m  Input \u001b[0;32mIn [6]\u001b[0;36m\u001b[0m\n\u001b[0;31m    pip install pandas\u001b[0m\n\u001b[0m        ^\u001b[0m\n\u001b[0;31mSyntaxError\u001b[0m\u001b[0;31m:\u001b[0m invalid syntax\n"
     ]
    }
   ],
   "source": [
    "pip install pandas\n",
    "pip install matplotlib\n",
    "# main class part\n",
    "# add the useful function \n",
    "\n",
    "improt pandas as pd\n",
    "import matplotlib.pyplot as plt\n",
    "\n",
    "# define the forth method in this part \n",
    "#from models.linear import mutiple_linear\n",
    "#from models.xgboost import XGBoost\n",
    "#from models.RegressionTree import Tree_Regression\n",
    "#from models.neuralnetworking import Neural_Networking \n",
    "\n",
    "## create the shown function to show the  including data\n",
    "def Data_show(data):\n",
    "    #set the title and ylabel='Unit', xlabel='Date'\n",
    "    plt.show()\n",
    "    \n",
    "# Firstly, the data is pre-processed and divided into a training set and a test set.\n",
    "# The allocation is based on temporal attributes.\n",
    "#Since the data is divided according to the time attribute, \n",
    "#the time attribute is extracted from the data\n",
    "\n",
    "Since the data is divided according to the time attribute, the time attribute is extracted from the data\n",
    "##Generate images of individual model runs out\n",
    "print('______________Linear Regression________________')\n",
    "linear_data_df = data.set_index(\"Date\")\n",
    "linear_data_df.index.name = 'Date'\n",
    "\n",
    "print('______________XGBoost________________')\n",
    "linear_data_df = data.set_index(\"Date\")\n",
    "linear_data_df.index.name = 'Date'\n",
    "\n",
    "print('______________Regression tree________________')\n",
    "linear_data_df = data.set_index(\"Date\")\n",
    "linear_data_df.index.name = 'Date'\n",
    "\n",
    "print('______________Neural Networking ________________')\n",
    "linear_data_df = data.set_index(\"Date\")\n",
    "linear_data_df.index.name = 'Date'"
   ]
  },
  {
   "cell_type": "code",
   "execution_count": null,
   "id": "a8ef5977",
   "metadata": {},
   "outputs": [],
   "source": []
  },
  {
   "cell_type": "code",
   "execution_count": null,
   "id": "a77c34ae",
   "metadata": {},
   "outputs": [],
   "source": []
  }
 ],
 "metadata": {
  "kernelspec": {
   "display_name": "Python 3 (ipykernel)",
   "language": "python",
   "name": "python3"
  },
  "language_info": {
   "codemirror_mode": {
    "name": "ipython",
    "version": 3
   },
   "file_extension": ".py",
   "mimetype": "text/x-python",
   "name": "python",
   "nbconvert_exporter": "python",
   "pygments_lexer": "ipython3",
   "version": "3.9.12"
  }
 },
 "nbformat": 4,
 "nbformat_minor": 5
}
